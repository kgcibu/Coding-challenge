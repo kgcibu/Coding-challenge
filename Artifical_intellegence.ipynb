{
  "nbformat": 4,
  "nbformat_minor": 0,
  "metadata": {
    "colab": {
      "provenance": [],
      "authorship_tag": "ABX9TyMH4DwtUf2sRbjznRG0CkSe",
      "include_colab_link": true
    },
    "kernelspec": {
      "name": "python3",
      "display_name": "Python 3"
    },
    "language_info": {
      "name": "python"
    }
  },
  "cells": [
    {
      "cell_type": "markdown",
      "metadata": {
        "id": "view-in-github",
        "colab_type": "text"
      },
      "source": [
        "<a href=\"https://colab.research.google.com/github/kgcibu/Coding-challenge/blob/main/Artifical_intellegence.ipynb\" target=\"_parent\"><img src=\"https://colab.research.google.com/assets/colab-badge.svg\" alt=\"Open In Colab\"/></a>"
      ]
    },
    {
      "cell_type": "code",
      "execution_count": 1,
      "metadata": {
        "colab": {
          "base_uri": "https://localhost:8080/"
        },
        "id": "EniElIMVKqI7",
        "outputId": "5b22306c-1272-452d-eb81-2023cee95fbd"
      },
      "outputs": [
        {
          "output_type": "stream",
          "name": "stdout",
          "text": [
            "[7, 9]\n",
            "[12, 14]\n"
          ]
        }
      ],
      "source": [
        "\n",
        "\n",
        "X = [[1,2],\n",
        "    [4,5]]\n",
        "\n",
        "Y = [[6,7],\n",
        "    [8,9]]\n",
        "\n",
        "result = [[0,0],\n",
        "         [0,0]]\n",
        "\n",
        "for i in range(len(X)):\n",
        "  for j in range(len(X[0])):\n",
        "    result[i][j] = X[i][j] + Y[i][j]\n",
        "\n",
        "for r in result:\n",
        "  print(r)\n"
      ]
    }
  ]
}
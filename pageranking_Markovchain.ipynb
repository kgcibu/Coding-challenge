{
  "nbformat": 4,
  "nbformat_minor": 0,
  "metadata": {
    "colab": {
      "provenance": [],
      "authorship_tag": "ABX9TyOGkexhmfJqzkS5mKUsDjl/",
      "include_colab_link": true
    },
    "kernelspec": {
      "name": "python3",
      "display_name": "Python 3"
    },
    "language_info": {
      "name": "python"
    }
  },
  "cells": [
    {
      "cell_type": "markdown",
      "metadata": {
        "id": "view-in-github",
        "colab_type": "text"
      },
      "source": [
        "<a href=\"https://colab.research.google.com/github/kgcibu/Coding-challenge/blob/main/pageranking_Markovchain.ipynb\" target=\"_parent\"><img src=\"https://colab.research.google.com/assets/colab-badge.svg\" alt=\"Open In Colab\"/></a>"
      ]
    },
    {
      "cell_type": "code",
      "source": [],
      "metadata": {
        "id": "Ig3CYcqzPkc5"
      },
      "execution_count": null,
      "outputs": []
    },
    {
      "cell_type": "code",
      "execution_count": null,
      "metadata": {
        "colab": {
          "base_uri": "https://localhost:8080/",
          "height": 213
        },
        "id": "TzLLgOf4Y3Q2",
        "outputId": "a8e594f1-60ab-4832-c0f8-4dd0adf89eaf"
      },
      "outputs": [
        {
          "output_type": "error",
          "ename": "SyntaxError",
          "evalue": "invalid decimal literal (<ipython-input-1-dee549914f6a>, line 27)",
          "traceback": [
            "\u001b[0;36m  File \u001b[0;32m\"<ipython-input-1-dee549914f6a>\"\u001b[0;36m, line \u001b[0;32m27\u001b[0m\n\u001b[0;31m    https://colab.research.google.com/drive/1shqQAPFOww7Qtim0xVMei6eOqjvGfRN6#scrollTo=TzLLgOf4Y3Q2                          [0,0,1,0,0,1],\u001b[0m\n\u001b[0m                                            ^\u001b[0m\n\u001b[0;31mSyntaxError\u001b[0m\u001b[0;31m:\u001b[0m invalid decimal literal\n"
          ]
        }
      ],
      "source": [
        "import numpy as np\n",
        "\n",
        "def power_iteration(Transistion_Matrix, num_iterations: int):\n",
        "\n",
        "\n",
        "  Probablity_Matrix = [[0],[1],[0],[0],[0],[0]]\n",
        "  i=1\n",
        "  while num_iterations > 0:\n",
        "        print(\"The stage No is  ::::::: \",i)\n",
        "        Product_Matrix= np.dot(Transistion_Matrix,Probablity_Matrix)\n",
        "        Norm = np.linalg.norm(Product_Matrix)\n",
        "        Final_Matrix = Product_Matrix /Norm\n",
        "        Probablity_Matrix=Product_Matrix\n",
        "        num_iterations -= 1\n",
        "        i=i+1\n",
        "        print(\"************************\")\n",
        "        print(\"Final_Matrix ::::::: \", Final_Matrix)\n",
        "        print(\"************************\")\n",
        "        print(\"\\n\")\n",
        "  return Product_Matrix\n",
        "\n",
        "#power_iteration(np.array([[0.8, 0.4], [0.2, 0.6]]), 5)\n",
        "\n",
        "power_iteration(np.array([[0,1,0,0,1,1],\n",
        "                          [0,0,1,1,1,0],\n",
        "                          [0,1,0,0,1,1],\n",
        "https://colab.research.google.com/drive/1shqQAPFOww7Qtim0xVMei6eOqjvGfRN6#scrollTo=TzLLgOf4Y3Q2                          [0,0,1,0,0,1],\n",
        "                          [1,1,0,0,0,1],\n",
        "                          [1,0,1,1,0,0]]), 10)"
      ]
    },
    {
      "cell_type": "code",
      "source": [],
      "metadata": {
        "id": "ACDQZN9kRMy6"
      },
      "execution_count": null,
      "outputs": []
    }
  ]
}
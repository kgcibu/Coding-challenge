{
  "nbformat": 4,
  "nbformat_minor": 0,
  "metadata": {
    "colab": {
      "provenance": [],
      "authorship_tag": "ABX9TyMyixLD2SWOEK3z3G1cMQ9F",
      "include_colab_link": true
    },
    "kernelspec": {
      "name": "python3",
      "display_name": "Python 3"
    },
    "language_info": {
      "name": "python"
    }
  },
  "cells": [
    {
      "cell_type": "markdown",
      "metadata": {
        "id": "view-in-github",
        "colab_type": "text"
      },
      "source": [
        "<a href=\"https://colab.research.google.com/github/kgcibu/Coding-challenge/blob/Python/Machine%20learning%20%201.ipynb\" target=\"_parent\"><img src=\"https://colab.research.google.com/assets/colab-badge.svg\" alt=\"Open In Colab\"/></a>"
      ]
    },
    {
      "cell_type": "code",
      "source": [],
      "metadata": {
        "id": "Ukkx6f9Yafkq"
      },
      "execution_count": null,
      "outputs": []
    },
    {
      "cell_type": "code",
      "source": [
        "import numpy as np\n",
        "import pandas as pd\n",
        "import matplotlib.pyplot as plt\n",
        "import seaborn as sns\n",
        "\n",
        "A=np.array([[1,2],[3,4]]);\n",
        "B=np.array([[5,6],[7,8]]);\n",
        "A101=A+B;\n",
        "A102=A-B;\n",
        "A103=B-A\n",
        "A104=A*B;\n",
        "A105=B*A;\n",
        "F=np.dot(A,B);\n",
        "T=np.transpose(A);\n",
        "D=np.linalg.det(A);\n",
        "I=np.linalg.inv(A);\n",
        "R=np.linalg.matrix_rank(A);\n",
        "E=np.linalg.eigvals(A);\n",
        "C=np.array([5,11]);\n",
        "X=np.linalg.solve(A,B)\n",
        "\n",
        "\n",
        "\n",
        "print(\"Matrix addition:\\n\",A101);\n",
        "print(\"Matrix Substraction is :\\n\",A102);\n",
        "print(\"Matrix Substraction is :\\n\",A103);\n",
        "print(\"Matrix Mutiplication is :\\n\",A104);\n",
        "print(\"Matrix Mutiplication is :\\n\",A105);\n",
        "print(\"Matrix dot product is :\\n\",F);\n",
        "print(\"Transpose of A is :\\n\",T);\n",
        "print(\"Determinant of A is :\\n\",D);\n",
        "print(\"Inverse of A is :\\n\\n\",I);\n",
        "print(\"Rank of A is :\\n\\n\",R);\n",
        "print(\"Eigen values of A is :\\n\\n\\n\",E);\n",
        "\n",
        "print(\"\\n\\nSOLUTION OF LINEAR SIMULTANEOUS EQUATION IN TWO VARIABLE IS  :\\n\\n\",X);\n",
        "\n",
        "\n"
      ],
      "metadata": {
        "colab": {
          "base_uri": "https://localhost:8080/"
        },
        "id": "e9tUZsqDa4ai",
        "outputId": "db318b63-0fc3-44fe-da0f-94aa81bfe808"
      },
      "execution_count": null,
      "outputs": [
        {
          "output_type": "stream",
          "name": "stdout",
          "text": [
            "Matrix addition:\n",
            " [[ 6  8]\n",
            " [10 12]]\n",
            "Matrix Substraction is :\n",
            " [[-4 -4]\n",
            " [-4 -4]]\n",
            "Matrix Substraction is :\n",
            " [[4 4]\n",
            " [4 4]]\n",
            "Matrix Mutiplication is :\n",
            " [[ 5 12]\n",
            " [21 32]]\n",
            "Matrix Mutiplication is :\n",
            " [[ 5 12]\n",
            " [21 32]]\n",
            "Matrix dot product is :\n",
            " [[19 22]\n",
            " [43 50]]\n",
            "Transpose of A is :\n",
            " [[1 3]\n",
            " [2 4]]\n",
            "Determinant of A is :\n",
            " -2.0000000000000004\n",
            "Inverse of A is :\n",
            "\n",
            " [[-2.   1. ]\n",
            " [ 1.5 -0.5]]\n",
            "Rank of A is :\n",
            "\n",
            " 2\n",
            "Eigen values of A is :\n",
            "\n",
            "\n",
            " [-0.37228132  5.37228132]\n",
            "\n",
            "\n",
            "SOLUTION OF LINEAR SIMULTANEOUS EQUATION IN TWO VARIABLE IS  :\n",
            "\n",
            " [[-3. -4.]\n",
            " [ 4.  5.]]\n"
          ]
        }
      ]
    }
  ]
}